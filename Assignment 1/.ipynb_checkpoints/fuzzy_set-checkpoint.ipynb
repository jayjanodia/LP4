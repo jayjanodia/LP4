{
 "cells": [
  {
   "cell_type": "markdown",
   "metadata": {},
   "source": [
    "# References:\n",
    "https://www.tutorialspoint.com/fuzzy_logic/fuzzy_logic_set_theory.htm\n",
    "\n",
    "https://github.com/ojss/fuzzy_set"
   ]
  },
  {
   "cell_type": "code",
   "execution_count": 1,
   "metadata": {},
   "outputs": [],
   "source": [
    "import numpy as np"
   ]
  },
  {
   "cell_type": "code",
   "execution_count": 2,
   "metadata": {},
   "outputs": [],
   "source": [
    "class FuzzySet:\n",
    "    def __init__(self, iterable: any):\n",
    "        self.f_set = set(iterable)\n",
    "        self.f_list = list(iterable)\n",
    "        self.f_len = len(iterable)\n",
    "        for elem in self.f_set:\n",
    "            if not isinstance(elem, tuple):\n",
    "                raise TypeError(\"No tuples in the fuzzy set\")\n",
    "            if not isinstance(elem[1], float):\n",
    "                raise ValueError(\"Probabilities not assigned to elements\")\n",
    "\n",
    "    def __or__(self, other):\n",
    "        '''Union Operation, finds the MAX value, represented by '|'''\n",
    "        if len(self.f_set) != len(other.f_set):\n",
    "            raise ValueError(\"Length of the sets is different\")\n",
    "        f_set = [x for x in self.f_set]\n",
    "        other = [x for x in other.f_set]\n",
    "        return FuzzySet([f_set[i] if f_set[i][1] > other[i][1] else other[i] for i in range(len(self))])\n",
    "\n",
    "    def __and__(self, other):\n",
    "        '''Intersection Operation, finds the MIN value, represented by '&'''\n",
    "        if len(self.f_set) != len(other.f_set):\n",
    "            raise ValueError(\"Length of the sets is different\")\n",
    "        f_set = [x for x in self.f_set]\n",
    "        other = [x for x in other.f_set]\n",
    "        return FuzzySet([f_set[i] if f_set[i][1] < other[i][1] else other[i] for i in range(len(self))])\n",
    "\n",
    "    def __invert__(self):\n",
    "        '''Complement Operation, performs the NOT operation, represented by '^'''\n",
    "        f_set = [x for x in self.f_set]\n",
    "        for indx, elem in enumerate(f_set):\n",
    "            f_set[indx] = (elem[0], float(round(1 - elem[1], 2)))\n",
    "        return FuzzySet(f_set)\n",
    "\n",
    "    def __sub__(self, other):\n",
    "        '''Subtraction Operation,  also called symmetric difference, represented by '-'''\n",
    "        if len(self) != len(other):\n",
    "            raise ValueError(\"Length of the sets is different\")\n",
    "        return self & ~other\n",
    "\n",
    "    @staticmethod\n",
    "    def max_min(array1: np.ndarray, array2: np.ndarray):\n",
    "        tmp = np.zeros((array1.shape[0], array2.shape[1]))\n",
    "        t = list()\n",
    "        for i in range(len(array1)):\n",
    "            for j in range(len(array2[0])):\n",
    "                for k in range(len(array2)):\n",
    "                    t.append(round(min(array1[i][k], array2[k][j]), 2))\n",
    "                tmp[i][j] = max(t)\n",
    "                t.clear()\n",
    "        return tmp\n",
    "\n",
    "    def __len__(self):\n",
    "        self.f_len = sum([1 for i in self.f_set])\n",
    "        return self.f_len\n",
    "\n",
    "    def __str__(self):\n",
    "        return f'{[x for x in self.f_set]}'\n",
    "\n",
    "    def __getitem__(self, item):\n",
    "        return self.f_list[item]\n",
    "\n",
    "    def __iter__(self):\n",
    "        for i in range(len(self)):\n",
    "            yield self[i]"
   ]
  },
  {
   "cell_type": "code",
   "execution_count": 3,
   "metadata": {},
   "outputs": [],
   "source": [
    "a = FuzzySet({('x1', 0.5), ('x2', 0.7), ('x3', 0.0)})\n",
    "b = FuzzySet({('x1', 0.8), ('x2', 0.2), ('x3', 1.0)})"
   ]
  },
  {
   "cell_type": "code",
   "execution_count": 11,
   "metadata": {},
   "outputs": [
    {
     "name": "stdout",
     "output_type": "stream",
     "text": [
      "a -> [('x3', 0.0), ('x2', 0.7), ('x1', 0.5)]\n"
     ]
    }
   ],
   "source": [
    "print('a -> {}'.format(a))"
   ]
  },
  {
   "cell_type": "code",
   "execution_count": 12,
   "metadata": {},
   "outputs": [
    {
     "name": "stdout",
     "output_type": "stream",
     "text": [
      "b -> [('x3', 1.0), ('x2', 0.2), ('x1', 0.8)]\n"
     ]
    }
   ],
   "source": [
    "print('b -> {}'.format(b))"
   ]
  },
  {
   "cell_type": "code",
   "execution_count": 13,
   "metadata": {},
   "outputs": [
    {
     "name": "stdout",
     "output_type": "stream",
     "text": [
      "Fuzzy Union -> [('x2', 0.7), ('x3', 1.0), ('x1', 0.8)]\n"
     ]
    }
   ],
   "source": [
    "print('Fuzzy Union -> {}'.format(a | b))"
   ]
  },
  {
   "cell_type": "code",
   "execution_count": 14,
   "metadata": {},
   "outputs": [
    {
     "name": "stdout",
     "output_type": "stream",
     "text": [
      "Fuzzy Intersection -> [('x3', 0.0), ('x2', 0.2), ('x1', 0.5)]\n"
     ]
    }
   ],
   "source": [
    "print('Fuzzy Intersection -> {}'.format(a & b))"
   ]
  },
  {
   "cell_type": "code",
   "execution_count": 15,
   "metadata": {},
   "outputs": [
    {
     "name": "stdout",
     "output_type": "stream",
     "text": [
      "Fuzzy Inversion of a -> [('x2', 0.3), ('x3', 1.0), ('x1', 0.5)]\n"
     ]
    }
   ],
   "source": [
    "print('Fuzzy Inversion of a -> {}'.format(~a))"
   ]
  },
  {
   "cell_type": "code",
   "execution_count": 18,
   "metadata": {},
   "outputs": [
    {
     "name": "stdout",
     "output_type": "stream",
     "text": [
      "Fuzzy Inversion of b -> [('x3', 0.0), ('x2', 0.8), ('x1', 0.2)]\n"
     ]
    }
   ],
   "source": [
    "print('Fuzzy Inversion of b -> {}'.format(~b))"
   ]
  },
  {
   "cell_type": "code",
   "execution_count": 19,
   "metadata": {},
   "outputs": [
    {
     "name": "stdout",
     "output_type": "stream",
     "text": [
      "Fuzzy Subtraction -> [('x3', 0.0), ('x2', 0.7), ('x1', 0.2)]\n"
     ]
    }
   ],
   "source": [
    "print('Fuzzy Subtraction -> {}'.format(a - b))"
   ]
  },
  {
   "cell_type": "markdown",
   "metadata": {},
   "source": [
    "#### Cartesian Product"
   ]
  },
  {
   "cell_type": "code",
   "execution_count": 20,
   "metadata": {},
   "outputs": [],
   "source": [
    "r = np.array([[0.6, 0.6, 0.8, 0.9], [0.1, 0.2, 0.9, 0.8], [0.9, 0.3, 0.4, 0.8], [0.9, 0.8, 0.1, 0.2]])\n",
    "s = np.array([[0.1, 0.2, 0.7, 0.9], [1.0, 1.0, 0.4, 0.6], [0.0, 0.0, 0.5, 0.9], [0.9, 1.0, 0.8, 0.2]])"
   ]
  },
  {
   "cell_type": "code",
   "execution_count": 29,
   "metadata": {},
   "outputs": [
    {
     "name": "stdout",
     "output_type": "stream",
     "text": [
      "Max Min of -> \n",
      "\n",
      "[[0.6 0.6 0.8 0.9]\n",
      " [0.1 0.2 0.9 0.8]\n",
      " [0.9 0.3 0.4 0.8]\n",
      " [0.9 0.8 0.1 0.2]] \n",
      "\n",
      "and \n",
      "\n",
      "[[0.1 0.2 0.7 0.9]\n",
      " [1.  1.  0.4 0.6]\n",
      " [0.  0.  0.5 0.9]\n",
      " [0.9 1.  0.8 0.2]]\n",
      "\n",
      " = \n",
      "\n",
      "[[0.9 0.9 0.8 0.8]\n",
      " [0.8 0.8 0.8 0.9]\n",
      " [0.8 0.8 0.8 0.9]\n",
      " [0.8 0.8 0.7 0.9]]\n"
     ]
    }
   ],
   "source": [
    "print('Max Min of -> \\n\\n{} \\n\\nand \\n\\n{}\\n\\n = \\n'.format(r, s))\n",
    "print(FuzzySet.max_min(r, s))"
   ]
  },
  {
   "cell_type": "code",
   "execution_count": null,
   "metadata": {},
   "outputs": [],
   "source": []
  }
 ],
 "metadata": {
  "kernelspec": {
   "display_name": "Python 3",
   "language": "python",
   "name": "python3"
  },
  "language_info": {
   "codemirror_mode": {
    "name": "ipython",
    "version": 3
   },
   "file_extension": ".py",
   "mimetype": "text/x-python",
   "name": "python",
   "nbconvert_exporter": "python",
   "pygments_lexer": "ipython3",
   "version": "3.7.4"
  }
 },
 "nbformat": 4,
 "nbformat_minor": 4
}
