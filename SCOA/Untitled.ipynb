{
 "cells": [
  {
   "cell_type": "code",
   "execution_count": 1,
   "metadata": {},
   "outputs": [],
   "source": [
    "import numpy as np"
   ]
  },
  {
   "cell_type": "code",
   "execution_count": 2,
   "metadata": {},
   "outputs": [],
   "source": [
    "class FuzzySet:\n",
    "    def __init__ (self, iterable: any):\n",
    "        self.f_set = set(iterable)\n",
    "        self.f_list = list(iterable)\n",
    "        self.f_len = len(iterable)\n",
    "        for elem in self.f_set:\n",
    "            if not isInstance(elem, tuple):\n",
    "                raise TypeError('No tuples in the Fuzzy set')\n",
    "            if not isinstance(elem[1], float):\n",
    "                raise ValueError('Probablities not assigned to elements')\n",
    "                \n",
    "    def __or__ (self, other):\n",
    "        '''Fuzzy Set Union'''\n",
    "        if len(self.f_set) != len(other.f_set):\n",
    "            raise ValueError('Length of sets is different')\n",
    "        f_set = [x for x in self.f_set]\n",
    "        other = [x for x in other.f_set]\n",
    "        return FuzzySet([f_set[i] if f_set[i][1] > other[i][1] else other[i] for i in range(len(self))])\n",
    "    \n",
    "    def __and__ (self, other):\n",
    "        '''Fuzzy Set Intersection'''\n",
    "        if len(self.f_set) != len(other.f_set):\n",
    "            raise ValueError('Length of sets is different')\n",
    "        f_set = [x for x in self.f_set]\n",
    "        other = [x for x in other.f_set]\n",
    "        return FuzzySet([f_set[i] if f_set[i][1] < other[i][1] else other[i] for i in range(len(self))])\n",
    "    \n",
    "    def __invert__ (self):\n",
    "        '''Fuzzy Set Not'''\n",
    "        f_set = [x for x in self.f_set]\n",
    "        for index, element in enumerate(f_set):\n",
    "            f_set[index] = (element[0], float(round(1 - element[1], 2)))\n",
    "        return FuzzySet(f_set)\n",
    "    \n",
    "    def __sub__ (self, other):\n",
    "        '''Subtract the two sets'''\n",
    "        if len(self) != len(other):\n",
    "            raise ValueError(\"Length of sets is different\")\n",
    "        return self & ~other\n",
    "    \n",
    "    def __mul__ (self, other):\n",
    "        '''Multiply the two sets'''\n",
    "        if len(self) != len(other):\n",
    "            raise ValueError('Length of sets is different')\n",
    "        return FuzzySet([self[i][0], self[i][1] * other[i][1]or i in range(len(self))])\n",
    "    \n",
    "    def __mod__(self, other):\n",
    "        '''Cartesian Product'''\n",
    "        print(f'The size of the relation will be: {len(self)}x{len(other)} ')\n",
    "        m1 = self\n",
    "        m2 = other\n",
    "        temp = [[] for i in range(len(m1))]\n",
    "        i = 0\n",
    "        for i in m1:\n",
    "            for j in m2:\n",
    "                temp[i].append(min(i[1], j[1]))\n",
    "            i += 1\n",
    "        return np.array(tmp)\n",
    "    \n",
    "    @staticmethod\n",
    "    def max_min(arr1: np.ndarray, arr2: np.ndarray):\n",
    "        tmp = np.zeros((arr1.shape[0], arr2.shape[1]))\n",
    "        t = list()\n",
    "        for i in range(len(arr1)):\n",
    "            for j in range(len(arr2)):\n",
    "                for k in range(len(arr2)):\n",
    "                    t.append(round(min(arr1[i][k], arr2[k][j]), 2))\n",
    "                tmp[i][j] = max(t)\n",
    "                t.clear()\n",
    "        return tmp\n",
    "    \n",
    "    def __len__(self):\n",
    "        self.f_len = sum([1 for i in self.f_set])\n",
    "        return self.f_len\n",
    "    \n",
    "    def __str__(self):\n",
    "        return f'{[x for x in self.f_set]}'\n",
    "    \n",
    "    def __getItem__(self, item):\n",
    "        return self.f_list[item]\n",
    "    \n",
    "    def __iter__ (self):\n",
    "        for i in range(len(self)):\n",
    "            yield self[i]"
   ]
  },
  {
   "cell_type": "code",
   "execution_count": 3,
   "metadata": {},
   "outputs": [
    {
     "data": {
      "text/plain": [
       "dict"
      ]
     },
     "execution_count": 3,
     "metadata": {},
     "output_type": "execute_result"
    }
   ],
   "source": [
    "a = {}\n",
    "type(a)"
   ]
  }
 ],
 "metadata": {
  "kernelspec": {
   "display_name": "Python 3",
   "language": "python",
   "name": "python3"
  },
  "language_info": {
   "codemirror_mode": {
    "name": "ipython",
    "version": 3
   },
   "file_extension": ".py",
   "mimetype": "text/x-python",
   "name": "python",
   "nbconvert_exporter": "python",
   "pygments_lexer": "ipython3",
   "version": "3.7.4"
  }
 },
 "nbformat": 4,
 "nbformat_minor": 2
}
