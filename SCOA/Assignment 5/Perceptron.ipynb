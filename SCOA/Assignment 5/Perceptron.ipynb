{
 "cells": [
  {
   "cell_type": "markdown",
   "metadata": {},
   "source": [
    "# Source: https://towardsdatascience.com/https-medium-com-francesco-cicala-whats-whys-and-hows-of-perceptron-f87c66f512c5"
   ]
  },
  {
   "cell_type": "code",
   "execution_count": 1,
   "metadata": {},
   "outputs": [],
   "source": [
    "import numpy as np"
   ]
  },
  {
   "cell_type": "code",
   "execution_count": 2,
   "metadata": {},
   "outputs": [],
   "source": [
    "def unit_step(v):\n",
    "    '''Heavyside step function. V must be scalar'''\n",
    "    if v >= 0:\n",
    "        return 1\n",
    "    else:\n",
    "        return 0"
   ]
  },
  {
   "cell_type": "code",
   "execution_count": 3,
   "metadata": {},
   "outputs": [],
   "source": [
    "def perceptron(x, w, b):\n",
    "    '''Function implemented by perceptron with weight w and bias (threshold) b'''\n",
    "    v = np.dot(w, x) + b\n",
    "    y = unit_step(v)\n",
    "    return y"
   ]
  },
  {
   "cell_type": "markdown",
   "metadata": {},
   "source": [
    "# Boolean Functions\n",
    "# Source: https://towardsdatascience.com/perceptrons-logical-functions-and-the-xor-problem-37ca5025790a"
   ]
  },
  {
   "cell_type": "markdown",
   "metadata": {},
   "source": [
    "### NOT Function"
   ]
  },
  {
   "cell_type": "code",
   "execution_count": 4,
   "metadata": {},
   "outputs": [
    {
     "name": "stdout",
     "output_type": "stream",
     "text": [
      "NOT(0) = 1\n",
      "NOT(1) = 0\n"
     ]
    }
   ],
   "source": [
    "def not_percep(x):\n",
    "    return perceptron(x, w = -1, b = 0.5)\n",
    "\n",
    "print('NOT(0) = {}'.format(not_percep(0)))\n",
    "print('NOT(1) = {}'.format(not_percep(1)))"
   ]
  },
  {
   "cell_type": "markdown",
   "metadata": {},
   "source": [
    "### AND Function"
   ]
  },
  {
   "cell_type": "code",
   "execution_count": 5,
   "metadata": {},
   "outputs": [
    {
     "name": "stdout",
     "output_type": "stream",
     "text": [
      "AND(1, 1) = 1\n",
      "AND(1, 0) = 0\n",
      "AND(0, 1) = 0\n",
      "AND(0, 0) = 0\n"
     ]
    }
   ],
   "source": [
    "def and_percep(x):\n",
    "    w = np.array([1,1])\n",
    "    b = -1.5\n",
    "    return perceptron(x, w, b)\n",
    "\n",
    "#test\n",
    "example1 = np.array([1,1])\n",
    "example2 = np.array([1,0])\n",
    "example3 = np.array([0,1])\n",
    "example4 = np.array([0,0])\n",
    "\n",
    "print('AND({}, {}) = {}'.format(1, 1, and_percep(example1)))\n",
    "print('AND({}, {}) = {}'.format(1, 0, and_percep(example2)))\n",
    "print('AND({}, {}) = {}'.format(0, 1, and_percep(example3)))\n",
    "print('AND({}, {}) = {}'.format(0, 0, and_percep(example4)))"
   ]
  },
  {
   "cell_type": "markdown",
   "metadata": {},
   "source": [
    "### OR Function"
   ]
  },
  {
   "cell_type": "code",
   "execution_count": 6,
   "metadata": {},
   "outputs": [
    {
     "name": "stdout",
     "output_type": "stream",
     "text": [
      "AND(1, 1) = 1\n",
      "AND(1, 0) = 1\n",
      "AND(0, 1) = 1\n",
      "AND(0, 0) = 0\n"
     ]
    }
   ],
   "source": [
    "def or_percep(x):\n",
    "    w = np.array([1,1])\n",
    "    b = -0.5\n",
    "    return perceptron(x, w, b)\n",
    "\n",
    "#test\n",
    "example1 = np.array([1,1])\n",
    "example2 = np.array([1,0])\n",
    "example3 = np.array([0,1])\n",
    "example4 = np.array([0,0])\n",
    "\n",
    "print('AND({}, {}) = {}'.format(1, 1, or_percep(example1)))\n",
    "print('AND({}, {}) = {}'.format(1, 0, or_percep(example2)))\n",
    "print('AND({}, {}) = {}'.format(0, 1, or_percep(example3)))\n",
    "print('AND({}, {}) = {}'.format(0, 0, or_percep(example4)))"
   ]
  },
  {
   "cell_type": "markdown",
   "metadata": {},
   "source": [
    "### XOR Function\n",
    "AND(NOT(AND(X1, X2)), OR(X1, X2))"
   ]
  },
  {
   "cell_type": "code",
   "execution_count": 9,
   "metadata": {},
   "outputs": [
    {
     "name": "stdout",
     "output_type": "stream",
     "text": [
      "XOR(1, 1) = 0\n",
      "XOR(1, 0) = 1\n",
      "XOR(0, 1) = 1\n",
      "XOR(0, 0) = 0\n"
     ]
    }
   ],
   "source": [
    "def xor_percep(x):\n",
    "    gate_1 = and_percep(x)\n",
    "    gate_2 = not_percep(gate_1)\n",
    "    gate_3 = or_percep(x)\n",
    "    new_x = np.array([gate_2, gate_3])\n",
    "    output = and_percep(new_x)\n",
    "    return output\n",
    "\n",
    "print('XOR({}, {}) = {}'.format(1, 1, xor_percep(example1)))\n",
    "print('XOR({}, {}) = {}'.format(1, 0, xor_percep(example2)))\n",
    "print('XOR({}, {}) = {}'.format(0, 1, xor_percep(example3)))\n",
    "print('XOR({}, {}) = {}'.format(0, 0, xor_percep(example4)))"
   ]
  }
 ],
 "metadata": {
  "kernelspec": {
   "display_name": "Python 3",
   "language": "python",
   "name": "python3"
  },
  "language_info": {
   "codemirror_mode": {
    "name": "ipython",
    "version": 3
   },
   "file_extension": ".py",
   "mimetype": "text/x-python",
   "name": "python",
   "nbconvert_exporter": "python",
   "pygments_lexer": "ipython3",
   "version": "3.7.4"
  }
 },
 "nbformat": 4,
 "nbformat_minor": 2
}
